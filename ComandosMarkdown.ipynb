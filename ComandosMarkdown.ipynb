{
 "cells": [
  {
   "cell_type": "markdown",
   "id": "b86dbee4",
   "metadata": {},
   "source": [
    "**Mi nombre en negritas** también se puede usar __doble guión bajo__. Podemos usar *letras itálicas* o con _guión bajo_. ~~Tachamos texto con doble tilde~~\n",
    "\n",
    "# Título\n",
    "\n",
    "## Segundo título\n",
    "\n",
    "###### Sexto título\n",
    "\n",
    "* Biñetas\n",
    "* Son listas\n",
    "* Tercer elemento\n",
    "\n",
    "\n",
    "1. Primer elemento\n",
    "1. Segundo elemento\n",
    "\n",
    "\n",
    "> Texto de cita\n",
    ">\n",
    "> Seguimos con la cita\n",
    "\n",
    "Si queremos poner código mientras redactamos un párrafo usamos el acento grave `esto de aquí es el código`. O podemos ponmer código independiente del párrafo:\n",
    "```python\n",
    "#Sección de código...\n",
    "#Todo lo que pongamos dentro será código\n",
    "for i in L:\n",
    "    print(i)\n",
    "```\n",
    "\n",
    "Para escribir ecuaciones en el párrafo $x_1+x^2=\\alpha+\\beta$. Y para escribir ecuaciones fuera del párrafo\n",
    "$$\n",
    "\\frac{d}{dx}f=\\nabla\\cdot f\n",
    "$$"
   ]
  },
  {
   "cell_type": "markdown",
   "id": "246663cd",
   "metadata": {},
   "source": [
    "## Acceso rápido\n",
    "`Esc`+`M`$\\rightarrow$Cambia de código a Markdown\n",
    "\n",
    "`Esc`+`Y`$\\rightarrow$Cambia de Markdown a código\n",
    "\n",
    "`Ctrl`+`R`$\\rightarrow$Ejecuta la celda"
   ]
  }
 ],
 "metadata": {
  "kernelspec": {
   "display_name": "Python 3",
   "language": "python",
   "name": "python3"
  },
  "language_info": {
   "codemirror_mode": {
    "name": "ipython",
    "version": 3
   },
   "file_extension": ".py",
   "mimetype": "text/x-python",
   "name": "python",
   "nbconvert_exporter": "python",
   "pygments_lexer": "ipython3",
   "version": "3.8.8"
  }
 },
 "nbformat": 4,
 "nbformat_minor": 5
}
